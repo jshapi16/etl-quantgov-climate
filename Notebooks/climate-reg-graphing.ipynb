{
 "cells": [
  {
   "cell_type": "code",
   "execution_count": 16,
   "metadata": {},
   "outputs": [],
   "source": [
    "import matplotlib.pyplot as plt\n",
    "import pandas as pd\n",
    "import os \n",
    "import numpy as np"
   ]
  },
  {
   "cell_type": "code",
   "execution_count": 17,
   "metadata": {},
   "outputs": [
    {
     "data": {
      "text/html": [
       "<div>\n",
       "<style scoped>\n",
       "    .dataframe tbody tr th:only-of-type {\n",
       "        vertical-align: middle;\n",
       "    }\n",
       "\n",
       "    .dataframe tbody tr th {\n",
       "        vertical-align: top;\n",
       "    }\n",
       "\n",
       "    .dataframe thead th {\n",
       "        text-align: right;\n",
       "    }\n",
       "</style>\n",
       "<table border=\"1\" class=\"dataframe\">\n",
       "  <thead>\n",
       "    <tr style=\"text-align: right;\">\n",
       "      <th></th>\n",
       "      <th>Unnamed: 0</th>\n",
       "      <th>totalRegs</th>\n",
       "      <th>agencyID</th>\n",
       "      <th>agencyName</th>\n",
       "      <th>year</th>\n",
       "    </tr>\n",
       "  </thead>\n",
       "  <tbody>\n",
       "    <tr>\n",
       "      <th>0</th>\n",
       "      <td>0</td>\n",
       "      <td>362</td>\n",
       "      <td>72</td>\n",
       "      <td>Susquehanna River Basin Commission</td>\n",
       "      <td>2020</td>\n",
       "    </tr>\n",
       "    <tr>\n",
       "      <th>1</th>\n",
       "      <td>1</td>\n",
       "      <td>249</td>\n",
       "      <td>87</td>\n",
       "      <td>Marine Mammal Commission</td>\n",
       "      <td>2020</td>\n",
       "    </tr>\n",
       "    <tr>\n",
       "      <th>2</th>\n",
       "      <td>2</td>\n",
       "      <td>514</td>\n",
       "      <td>91</td>\n",
       "      <td>Delaware River Basin Commission</td>\n",
       "      <td>2020</td>\n",
       "    </tr>\n",
       "    <tr>\n",
       "      <th>3</th>\n",
       "      <td>3</td>\n",
       "      <td>162</td>\n",
       "      <td>132</td>\n",
       "      <td>Gulf Coast Ecosystem Restoration Council</td>\n",
       "      <td>2020</td>\n",
       "    </tr>\n",
       "    <tr>\n",
       "      <th>4</th>\n",
       "      <td>4</td>\n",
       "      <td>173206</td>\n",
       "      <td>219</td>\n",
       "      <td>Environmental Protection Agency</td>\n",
       "      <td>2020</td>\n",
       "    </tr>\n",
       "  </tbody>\n",
       "</table>\n",
       "</div>"
      ],
      "text/plain": [
       "   Unnamed: 0  totalRegs  agencyID                                agencyName  \\\n",
       "0           0        362        72        Susquehanna River Basin Commission   \n",
       "1           1        249        87                  Marine Mammal Commission   \n",
       "2           2        514        91           Delaware River Basin Commission   \n",
       "3           3        162       132  Gulf Coast Ecosystem Restoration Council   \n",
       "4           4     173206       219           Environmental Protection Agency   \n",
       "\n",
       "   year  \n",
       "0  2020  \n",
       "1  2020  \n",
       "2  2020  \n",
       "3  2020  \n",
       "4  2020  "
      ]
     },
     "execution_count": 17,
     "metadata": {},
     "output_type": "execute_result"
    }
   ],
   "source": [
    "fed_reg_df = pd.read_csv(\"../CSVs/clean_fed_reg.csv\")\n",
    "fed_reg_df.head()"
   ]
  },
  {
   "cell_type": "code",
   "execution_count": 18,
   "metadata": {},
   "outputs": [
    {
     "data": {
      "text/html": [
       "<div>\n",
       "<style scoped>\n",
       "    .dataframe tbody tr th:only-of-type {\n",
       "        vertical-align: middle;\n",
       "    }\n",
       "\n",
       "    .dataframe tbody tr th {\n",
       "        vertical-align: top;\n",
       "    }\n",
       "\n",
       "    .dataframe thead th {\n",
       "        text-align: right;\n",
       "    }\n",
       "</style>\n",
       "<table border=\"1\" class=\"dataframe\">\n",
       "  <thead>\n",
       "    <tr style=\"text-align: right;\">\n",
       "      <th></th>\n",
       "      <th>Unnamed: 0</th>\n",
       "      <th>state</th>\n",
       "      <th>year</th>\n",
       "      <th>incident_type</th>\n",
       "      <th>incident_title</th>\n",
       "    </tr>\n",
       "  </thead>\n",
       "  <tbody>\n",
       "    <tr>\n",
       "      <th>0</th>\n",
       "      <td>19525</td>\n",
       "      <td>FL</td>\n",
       "      <td>2000</td>\n",
       "      <td>Hurricane</td>\n",
       "      <td>Tropical Storm Irene - Florida</td>\n",
       "    </tr>\n",
       "    <tr>\n",
       "      <th>1</th>\n",
       "      <td>19554</td>\n",
       "      <td>AZ</td>\n",
       "      <td>2000</td>\n",
       "      <td>Severe Storm(s)</td>\n",
       "      <td>Severe Storms, Flooding, High Winds</td>\n",
       "    </tr>\n",
       "    <tr>\n",
       "      <th>2</th>\n",
       "      <td>19556</td>\n",
       "      <td>NH</td>\n",
       "      <td>2000</td>\n",
       "      <td>Hurricane</td>\n",
       "      <td>Tropical Storm Floyd</td>\n",
       "    </tr>\n",
       "    <tr>\n",
       "      <th>3</th>\n",
       "      <td>19559</td>\n",
       "      <td>FL</td>\n",
       "      <td>2000</td>\n",
       "      <td>Hurricane</td>\n",
       "      <td>Fl-Hurricane Irene-Dr-Req</td>\n",
       "    </tr>\n",
       "    <tr>\n",
       "      <th>4</th>\n",
       "      <td>19578</td>\n",
       "      <td>TX</td>\n",
       "      <td>2000</td>\n",
       "      <td>Fire</td>\n",
       "      <td>Bluestem Fire</td>\n",
       "    </tr>\n",
       "  </tbody>\n",
       "</table>\n",
       "</div>"
      ],
      "text/plain": [
       "   Unnamed: 0 state  year    incident_type  \\\n",
       "0       19525    FL  2000        Hurricane   \n",
       "1       19554    AZ  2000  Severe Storm(s)   \n",
       "2       19556    NH  2000        Hurricane   \n",
       "3       19559    FL  2000        Hurricane   \n",
       "4       19578    TX  2000             Fire   \n",
       "\n",
       "                        incident_title  \n",
       "0       Tropical Storm Irene - Florida  \n",
       "1  Severe Storms, Flooding, High Winds  \n",
       "2                 Tropical Storm Floyd  \n",
       "3            Fl-Hurricane Irene-Dr-Req  \n",
       "4                        Bluestem Fire  "
      ]
     },
     "execution_count": 18,
     "metadata": {},
     "output_type": "execute_result"
    }
   ],
   "source": [
    "fema_df = pd.read_csv(\"../CSVs/clean_disaster_declarations.csv\")\n",
    "fema_df.head()"
   ]
  },
  {
   "cell_type": "code",
   "execution_count": 72,
   "metadata": {},
   "outputs": [],
   "source": [
    "x1=fed_reg_df['year']\n",
    "x2 =fema_df['year'] \n",
    "y1=fed_reg_df['totalRegs']\n",
    "y2=fema_df['Unnamed: 0']"
   ]
  },
  {
   "cell_type": "code",
   "execution_count": 80,
   "metadata": {},
   "outputs": [
    {
     "data": {
      "image/png": "[encoded data removed]",
      "text/plain": [
       "<Figure size 720x720 with 1 Axes>"
      ]
     },
     "metadata": {
      "needs_background": "light"
     },
     "output_type": "display_data"
    }
   ],
   "source": [
    "fig, ax = plt.subplots(figsize=(10,10));\n",
    "ax.bar(x1, y1, color ='blue');\n",
    "ax.bar(x2, y2, color=\"green\");\n",
    "ax.set(\n",
    "      xlabel='Years',\n",
    "      ylabel=\"Regulation and Natural Disasters (count)\",\n",
    "      title=\"Federal Regulations vs Natural Disasters 2000-2020\");\n",
    "ax.legend(labels=['Regulations', 'Natural Disasters']);\n",
    "#plt.savefig('reg_disaster_graph.png', bbox_inches='tight');"
   ]
  },
  {
   "cell_type": "code",
   "execution_count": null,
   "metadata": {},
   "outputs": [],
   "source": []
  }
 ],
 "metadata": {
  "kernelspec": {
   "display_name": "Python 3",
   "language": "python",
   "name": "python3"
  },
  "language_info": {
   "codemirror_mode": {
    "name": "ipython",
    "version": 3
   },
   "file_extension": ".py",
   "mimetype": "text/x-python",
   "name": "python",
   "nbconvert_exporter": "python",
   "pygments_lexer": "ipython3",
   "version": "3.8.5"
  }
 },
 "nbformat": 4,
 "nbformat_minor": 4
}
